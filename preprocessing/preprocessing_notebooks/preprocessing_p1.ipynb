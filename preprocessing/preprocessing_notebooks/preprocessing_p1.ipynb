{
 "cells": [
  {
   "cell_type": "code",
   "execution_count": 8,
   "id": "c4ae3dd2",
   "metadata": {},
   "outputs": [],
   "source": [
    "import pandas as pd\n",
    "import numpy as np"
   ]
  },
  {
   "cell_type": "code",
   "execution_count": 9,
   "id": "2ac5458a",
   "metadata": {},
   "outputs": [],
   "source": [
    "# Load Data\n",
    "df_orders = pd.read_csv(\"../Raw data/orders.csv\", sep=\";\")\n",
    "df_test = pd.read_csv(\"../Raw data/test.csv\", sep=\";\")\n",
    "df_cities_data = pd.read_csv(\"../Raw data/cities_data.csv\", sep=\";\")"
   ]
  },
  {
   "cell_type": "markdown",
   "id": "e8b3d7cc",
   "metadata": {},
   "source": [
    "### Replace NaN and homogenize"
   ]
  },
  {
   "cell_type": "markdown",
   "id": "decae230",
   "metadata": {},
   "source": [
    "#### TRAIN"
   ]
  },
  {
   "cell_type": "code",
   "execution_count": 10,
   "id": "69ee0fae",
   "metadata": {},
   "outputs": [],
   "source": [
    "df_orders.loc[df_orders['logistic_hub'].isna(),'logistic_hub']=\"Direct shippment\"\n",
    "df_orders.loc[df_orders['origin_port']==\"ATHENAS\",'origin_port']=\"Athens\"\n",
    "df_orders.loc[df_orders['origin_port']==\"BCN\",'origin_port']=\"Barcelona\""
   ]
  },
  {
   "cell_type": "markdown",
   "id": "688c2bf3",
   "metadata": {},
   "source": [
    "#### CITIES DATA"
   ]
  },
  {
   "cell_type": "code",
   "execution_count": 11,
   "id": "93998280",
   "metadata": {},
   "outputs": [
    {
     "data": {
      "text/html": [
       "<div>\n",
       "<style scoped>\n",
       "    .dataframe tbody tr th:only-of-type {\n",
       "        vertical-align: middle;\n",
       "    }\n",
       "\n",
       "    .dataframe tbody tr th {\n",
       "        vertical-align: top;\n",
       "    }\n",
       "\n",
       "    .dataframe thead th {\n",
       "        text-align: right;\n",
       "    }\n",
       "</style>\n",
       "<table border=\"1\" class=\"dataframe\">\n",
       "  <thead>\n",
       "    <tr style=\"text-align: right;\">\n",
       "      <th></th>\n",
       "      <th>city_from_name</th>\n",
       "      <th>city_to_name</th>\n",
       "      <th>distance</th>\n",
       "    </tr>\n",
       "  </thead>\n",
       "  <tbody>\n",
       "    <tr>\n",
       "      <th>0</th>\n",
       "      <td>Dusseldorf</td>\n",
       "      <td>Zaragoza</td>\n",
       "      <td>1214.4772</td>\n",
       "    </tr>\n",
       "    <tr>\n",
       "      <th>1</th>\n",
       "      <td>Dusseldorf</td>\n",
       "      <td>Venlo</td>\n",
       "      <td>47.3876</td>\n",
       "    </tr>\n",
       "    <tr>\n",
       "      <th>2</th>\n",
       "      <td>Dusseldorf</td>\n",
       "      <td>Bratislava</td>\n",
       "      <td>819.2894</td>\n",
       "    </tr>\n",
       "    <tr>\n",
       "      <th>3</th>\n",
       "      <td>Dusseldorf</td>\n",
       "      <td>Hamburg</td>\n",
       "      <td>339.2215</td>\n",
       "    </tr>\n",
       "    <tr>\n",
       "      <th>4</th>\n",
       "      <td>Dusseldorf</td>\n",
       "      <td>Rome</td>\n",
       "      <td>1125.0290</td>\n",
       "    </tr>\n",
       "    <tr>\n",
       "      <th>...</th>\n",
       "      <td>...</td>\n",
       "      <td>...</td>\n",
       "      <td>...</td>\n",
       "    </tr>\n",
       "    <tr>\n",
       "      <th>661</th>\n",
       "      <td>Helsinki</td>\n",
       "      <td>Rotterdam</td>\n",
       "      <td>1560.6484</td>\n",
       "    </tr>\n",
       "    <tr>\n",
       "      <th>662</th>\n",
       "      <td>Prague</td>\n",
       "      <td>Rotterdam</td>\n",
       "      <td>726.5575</td>\n",
       "    </tr>\n",
       "    <tr>\n",
       "      <th>663</th>\n",
       "      <td>Valencia</td>\n",
       "      <td>Rotterdam</td>\n",
       "      <td>1434.1499</td>\n",
       "    </tr>\n",
       "    <tr>\n",
       "      <th>664</th>\n",
       "      <td>Bremen</td>\n",
       "      <td>Rotterdam</td>\n",
       "      <td>320.6459</td>\n",
       "    </tr>\n",
       "    <tr>\n",
       "      <th>665</th>\n",
       "      <td>Porto</td>\n",
       "      <td>Rotterdam</td>\n",
       "      <td>1558.0329</td>\n",
       "    </tr>\n",
       "  </tbody>\n",
       "</table>\n",
       "<p>1332 rows × 3 columns</p>\n",
       "</div>"
      ],
      "text/plain": [
       "    city_from_name city_to_name   distance\n",
       "0       Dusseldorf     Zaragoza  1214.4772\n",
       "1       Dusseldorf        Venlo    47.3876\n",
       "2       Dusseldorf   Bratislava   819.2894\n",
       "3       Dusseldorf      Hamburg   339.2215\n",
       "4       Dusseldorf         Rome  1125.0290\n",
       "..             ...          ...        ...\n",
       "661       Helsinki    Rotterdam  1560.6484\n",
       "662         Prague    Rotterdam   726.5575\n",
       "663       Valencia    Rotterdam  1434.1499\n",
       "664         Bremen    Rotterdam   320.6459\n",
       "665          Porto    Rotterdam  1558.0329\n",
       "\n",
       "[1332 rows x 3 columns]"
      ]
     },
     "metadata": {},
     "output_type": "display_data"
    }
   ],
   "source": [
    "df_cities_data.drop(['city_from_coord','city_to_coord'], axis=1, inplace=True)\n",
    "tmp=df_cities_data\n",
    "tmp=tmp.rename({'city_from_name':'city_to_name2'}, axis=1)\n",
    "tmp=tmp.rename({'city_to_name':'city_from_name'}, axis=1)\n",
    "tmp=tmp.rename({'city_to_name2':'city_to_name'}, axis=1)\n",
    "tmp = tmp[[\"city_from_name\", \"city_to_name\", \"distance\"]]\n",
    "result=pd.concat([df_cities_data,tmp])\n",
    "display(result)"
   ]
  },
  {
   "cell_type": "markdown",
   "id": "2d7f1fed",
   "metadata": {},
   "source": [
    "#### TEST"
   ]
  },
  {
   "cell_type": "code",
   "execution_count": 12,
   "id": "2e80837c",
   "metadata": {},
   "outputs": [],
   "source": [
    "df_test.loc[df_test['logistic_hub'].isna(),'logistic_hub']=\"Direct shippment\"\n",
    "df_test.loc[df_test['origin_port']==\"ATHENAS\",'origin_port']=\"Athens\"\n",
    "df_test.loc[df_test['origin_port']==\"BCN\",'origin_port']=\"Barcelona\""
   ]
  },
  {
   "cell_type": "markdown",
   "id": "5e3bdbeb",
   "metadata": {},
   "source": [
    "### Save Preprocessed Data"
   ]
  },
  {
   "cell_type": "code",
   "execution_count": 13,
   "id": "f32e5546",
   "metadata": {},
   "outputs": [],
   "source": [
    "df_orders.to_csv(\"../data_p1/orders.csv\", index=False)\n",
    "df_test.to_csv(\"../data_p1/test.csv\", index=False)\n",
    "result.to_csv(\"../data_p1/cities_data.csv\", index=False)"
   ]
  }
 ],
 "metadata": {
  "kernelspec": {
   "display_name": "Python 3.9.1 64-bit",
   "language": "python",
   "name": "python3"
  },
  "language_info": {
   "codemirror_mode": {
    "name": "ipython",
    "version": 3
   },
   "file_extension": ".py",
   "mimetype": "text/x-python",
   "name": "python",
   "nbconvert_exporter": "python",
   "pygments_lexer": "ipython3",
   "version": "3.9.1"
  },
  "vscode": {
   "interpreter": {
    "hash": "52634da84371cba311ea128a5ea7cdc41ff074b781779e754b270ff9f8153cee"
   }
  }
 },
 "nbformat": 4,
 "nbformat_minor": 5
}
