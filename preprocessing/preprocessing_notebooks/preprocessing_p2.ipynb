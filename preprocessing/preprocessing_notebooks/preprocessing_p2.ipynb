{
 "cells": [
  {
   "cell_type": "code",
   "execution_count": 1,
   "metadata": {},
   "outputs": [],
   "source": [
    "# Imports\n",
    "import pandas as pd\n",
    "import matplotlib.pyplot as plt"
   ]
  },
  {
   "cell_type": "code",
<<<<<<< HEAD
   "execution_count": 2,
=======
   "execution_count": 31,
>>>>>>> upstream/main
   "metadata": {},
   "outputs": [],
   "source": [
    "# read data\n",
    "df_orders = pd.read_csv(\"../data_p1/orders.csv\")\n",
    "df_products = pd.read_csv(\"../data_p1/product_attributes.csv\")\n",
    "df_dists = pd.read_csv(\"../data_p1/cities_data.csv\")\n",
    "df_test = pd.read_csv(\"../data_p1/test.csv\")"
   ]
  },
  {
   "cell_type": "code",
<<<<<<< HEAD
   "execution_count": 3,
=======
   "execution_count": 32,
>>>>>>> upstream/main
   "metadata": {},
   "outputs": [],
   "source": [
    "def preproc(df_orders, df_products, df_dists):\n",
    "    \n",
    "    # Join and merge distance_port_hub\n",
    "\n",
    "    df_orders = df_orders.join(df_products.set_index('product_id'), on='product_id')\n",
    "\n",
    "    df_aux = pd.merge(df_orders, df_dists,  how='left', left_on=['origin_port','logistic_hub'], right_on = ['city_from_name','city_to_name'])\n",
    "\n",
    "    df_aux=df_aux.drop(['city_from_name',\t'city_to_name'], axis=1)\n",
    "\n",
    "    df=df_aux.rename({'distance': 'distance_port_hub'}, axis=1)\n",
    "    \n",
    "\n",
    "    # Join and merge distance_port_hub\n",
    "\n",
    "    df_aux = pd.merge(df, df_dists,  how='left', left_on=['logistic_hub','customer'], right_on = ['city_from_name','city_to_name'])\n",
    "\n",
    "    df_aux=df_aux.drop(['city_from_name',\t'city_to_name'], axis=1)\n",
    "\n",
    "    df=df_aux.rename({'distance': 'distance_hub_customer'}, axis=1)\n",
    "\n",
    "\n",
    "    df.loc[df['origin_port']==df['logistic_hub'],'distance_port_hub'] = 0\n",
    "    df.loc[df['logistic_hub']==df['customer'],'distance_hub_customer'] = 0\n",
    "\n",
    "    # Total distance\n",
    "    \n",
    "    df['distance_total'] = df['distance_port_hub'] + df['distance_hub_customer']\n",
    "\n",
    "\n",
    "    df = pd.merge(df, df_dists,  how='left', left_on=['origin_port','customer'], right_on = ['city_from_name','city_to_name'])\n",
    "\n",
    "    df.loc[df['logistic_hub']=='Direct shippment', 'distance_total'] = df.loc[df['logistic_hub']=='Direct shippment','distance']\n",
    "\n",
    "    df.loc[df['logistic_hub']=='Direct shippment', 'distance_port_hub'] = df.loc[df['logistic_hub']=='Direct shippment','distance_total']/2\n",
    "    df.loc[df['logistic_hub']=='Direct shippment', 'distance_hub_customer'] = df.loc[df['logistic_hub']=='Direct shippment','distance_total']/2\n",
    "\n",
    "\n",
    "    df=df.drop(['distance','city_from_name','city_to_name'], axis=1)\n",
    "\n",
    "    \n",
    "    df.loc[df['origin_port']==df['customer'],'distance_total'] = 0\n",
    "    df.loc[df['origin_port']==df['customer'],'distance_port_hub'] = 0\n",
    "    df.loc[df['origin_port']==df['customer'],'distance_hub_customer'] = 0\n",
    "\n",
    "\n",
    "\n",
    "    return df"
   ]
  },
  {
   "cell_type": "code",
<<<<<<< HEAD
   "execution_count": 4,
=======
   "execution_count": 33,
>>>>>>> upstream/main
   "metadata": {},
   "outputs": [],
   "source": [
    "#Orders\n",
    "\n",
    "df_orders = preproc(df_orders, df_products, df_dists)\n",
    "\n",
    "df_orders.loc[df_orders['weight'].isna(),'weight'] = 1303\n",
    "df_orders.loc[df_orders['material_handling'].isna(),'material_handling'] = 3.0"
   ]
  },
  {
   "cell_type": "code",
<<<<<<< HEAD
   "execution_count": 5,
=======
   "execution_count": 36,
>>>>>>> upstream/main
   "metadata": {},
   "outputs": [],
   "source": [
    "# Test\n",
    "\n",
    "df_test = preproc(df_test, df_products, df_dists)\n",
    "\n",
    "df_test.loc[df_test['weight'].isna(),'weight'] = 1303\n",
    "df_test.loc[df_test['material_handling'].isna(),'material_handling'] = 3.0"
   ]
  },
  {
   "cell_type": "code",
<<<<<<< HEAD
   "execution_count": 6,
=======
   "execution_count": 37,
>>>>>>> upstream/main
   "metadata": {},
   "outputs": [],
   "source": [
    "# add variables\n",
    "df_orders['is_direct_shippment'] = 0\n",
    "df_orders.loc[df_orders['logistic_hub'] == 'Direct shippment', 'is_direct_shippment'] = 1\n",
    "\n",
    "\n",
    "df_test['is_direct_shippment'] = 0\n",
    "df_test.loc[df_test['logistic_hub'] == 'Direct shippment', 'is_direct_shippment'] = 1"
   ]
  },
  {
   "cell_type": "code",
   "execution_count": 7,
   "metadata": {},
   "outputs": [],
   "source": [
    "d={}\n",
    "for i in df_orders['product_id'].unique():\n",
    "\n",
    "    positive = df_orders[(df_orders['product_id']==i) & (df_orders['late_order']==True)].shape[0]\n",
    "    negative = df_orders[(df_orders['product_id']==i) & (df_orders['late_order']==False)].shape[0]\n",
    "    \n",
    "    df_orders.loc[df_orders['product_id'] == i ,'prob_prod_late'] = round(positive/(negative+positive),1)\n",
    "    df_test.loc[df_test['product_id'] == i ,'prob_prod_late'] = round(positive/(negative+positive),1)"
   ]
  },
  {
   "cell_type": "code",
   "execution_count": 8,
   "metadata": {},
   "outputs": [],
   "source": [
    "# Save\n",
    "\n",
    "df_orders.to_csv('../data_p2/df_orders.csv', index=False) \n",
    "\n",
    "df_test.to_csv('../data_p2/df_test.csv', index=False)\n",
    "\n",
    "df_test.to_csv('../data_p3/df_test.csv', index=False)"
   ]
  }
 ],
 "metadata": {
  "kernelspec": {
<<<<<<< HEAD
   "display_name": "Python 3.9.1 64-bit",
=======
   "display_name": "Python 3.9.12 64-bit",
>>>>>>> upstream/main
   "language": "python",
   "name": "python3"
  },
  "language_info": {
   "codemirror_mode": {
    "name": "ipython",
    "version": 3
   },
   "file_extension": ".py",
   "mimetype": "text/x-python",
   "name": "python",
   "nbconvert_exporter": "python",
   "pygments_lexer": "ipython3",
<<<<<<< HEAD
   "version": "3.9.1"
=======
   "version": "3.9.12"
>>>>>>> upstream/main
  },
  "orig_nbformat": 4,
  "vscode": {
   "interpreter": {
<<<<<<< HEAD
    "hash": "52634da84371cba311ea128a5ea7cdc41ff074b781779e754b270ff9f8153cee"
=======
    "hash": "c63c415ab99ec436fcb8ee002cc8458e39a88baa623caa091ec0434b54d2be80"
>>>>>>> upstream/main
   }
  }
 },
 "nbformat": 4,
 "nbformat_minor": 2
}
