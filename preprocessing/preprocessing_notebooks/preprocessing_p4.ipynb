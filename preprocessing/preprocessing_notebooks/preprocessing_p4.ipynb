{
 "cells": [
  {
   "cell_type": "code",
<<<<<<< HEAD
<<<<<<< HEAD
   "execution_count": 23,
=======
   "execution_count": 7,
>>>>>>> upstream/main
=======
   "execution_count": 1,
>>>>>>> upstream/main
   "metadata": {},
   "outputs": [],
   "source": [
    "import pandas as pd\n",
    "import matplotlib.pyplot as plt\n",
    "from sklearn.utils import shuffle\n",
    "import numpy as np\n",
    "from sklearn.model_selection import train_test_split\n",
    "from imblearn.over_sampling import SMOTE\n",
    "from imblearn.under_sampling import RandomUnderSampler \n",
    "from imblearn.over_sampling import RandomOverSampler \n",
    "from imblearn.under_sampling import NearMiss "
   ]
  },
  {
   "cell_type": "code",
<<<<<<< HEAD
<<<<<<< HEAD
   "execution_count": 24,
=======
   "execution_count": 8,
>>>>>>> upstream/main
=======
   "execution_count": 2,
>>>>>>> upstream/main
   "metadata": {},
   "outputs": [],
   "source": [
    "df = pd.read_csv('../data_p3/orders.csv')"
   ]
  },
  {
   "cell_type": "code",
<<<<<<< HEAD
<<<<<<< HEAD
   "execution_count": 25,
=======
   "execution_count": 9,
>>>>>>> upstream/main
=======
   "execution_count": 3,
>>>>>>> upstream/main
   "metadata": {},
   "outputs": [
    {
     "data": {
      "text/html": [
       "<div>\n",
       "<style scoped>\n",
       "    .dataframe tbody tr th:only-of-type {\n",
       "        vertical-align: middle;\n",
       "    }\n",
       "\n",
       "    .dataframe tbody tr th {\n",
       "        vertical-align: top;\n",
       "    }\n",
       "\n",
       "    .dataframe thead th {\n",
       "        text-align: right;\n",
       "    }\n",
       "</style>\n",
       "<table border=\"1\" class=\"dataframe\">\n",
       "  <thead>\n",
       "    <tr style=\"text-align: right;\">\n",
       "      <th></th>\n",
       "      <th>units</th>\n",
       "      <th>weight</th>\n",
       "      <th>distance_port_hub</th>\n",
       "      <th>distance_hub_customer</th>\n",
       "      <th>distance_total</th>\n",
       "      <th>is_direct_shippment</th>\n",
       "      <th>prob_prod_late</th>\n",
       "      <th>origin_port_Athens</th>\n",
       "      <th>origin_port_Barcelona</th>\n",
       "      <th>origin_port_Rotterdam</th>\n",
       "      <th>...</th>\n",
       "      <th>customer_Turin</th>\n",
       "      <th>customer_Valencia</th>\n",
       "      <th>customer_Vienna</th>\n",
       "      <th>material_handling_0.0</th>\n",
       "      <th>material_handling_1.0</th>\n",
       "      <th>material_handling_2.0</th>\n",
       "      <th>material_handling_3.0</th>\n",
       "      <th>material_handling_4.0</th>\n",
       "      <th>material_handling_5.0</th>\n",
       "      <th>late_order_t</th>\n",
       "    </tr>\n",
       "  </thead>\n",
       "  <tbody>\n",
       "    <tr>\n",
       "      <th>0</th>\n",
       "      <td>583</td>\n",
       "      <td>1778.0</td>\n",
       "      <td>130.0459</td>\n",
       "      <td>902.0420</td>\n",
       "      <td>1032.0879</td>\n",
       "      <td>0</td>\n",
       "      <td>0.2</td>\n",
       "      <td>0</td>\n",
       "      <td>0</td>\n",
       "      <td>1</td>\n",
       "      <td>...</td>\n",
       "      <td>0</td>\n",
       "      <td>0</td>\n",
       "      <td>0</td>\n",
       "      <td>0</td>\n",
       "      <td>0</td>\n",
       "      <td>0</td>\n",
       "      <td>0</td>\n",
       "      <td>0</td>\n",
       "      <td>1</td>\n",
       "      <td>1</td>\n",
       "    </tr>\n",
       "    <tr>\n",
       "      <th>1</th>\n",
       "      <td>459</td>\n",
       "      <td>1088.0</td>\n",
       "      <td>1269.2365</td>\n",
       "      <td>604.0216</td>\n",
       "      <td>1873.2581</td>\n",
       "      <td>0</td>\n",
       "      <td>0.1</td>\n",
       "      <td>0</td>\n",
       "      <td>0</td>\n",
       "      <td>1</td>\n",
       "      <td>...</td>\n",
       "      <td>0</td>\n",
       "      <td>0</td>\n",
       "      <td>0</td>\n",
       "      <td>0</td>\n",
       "      <td>0</td>\n",
       "      <td>0</td>\n",
       "      <td>1</td>\n",
       "      <td>0</td>\n",
       "      <td>0</td>\n",
       "      <td>0</td>\n",
       "    </tr>\n",
       "    <tr>\n",
       "      <th>2</th>\n",
       "      <td>464</td>\n",
       "      <td>505.0</td>\n",
       "      <td>2029.5726</td>\n",
       "      <td>392.9249</td>\n",
       "      <td>2422.4975</td>\n",
       "      <td>0</td>\n",
       "      <td>0.2</td>\n",
       "      <td>1</td>\n",
       "      <td>0</td>\n",
       "      <td>0</td>\n",
       "      <td>...</td>\n",
       "      <td>0</td>\n",
       "      <td>0</td>\n",
       "      <td>0</td>\n",
       "      <td>0</td>\n",
       "      <td>0</td>\n",
       "      <td>0</td>\n",
       "      <td>0</td>\n",
       "      <td>1</td>\n",
       "      <td>0</td>\n",
       "      <td>1</td>\n",
       "    </tr>\n",
       "    <tr>\n",
       "      <th>3</th>\n",
       "      <td>678</td>\n",
       "      <td>1308.0</td>\n",
       "      <td>173.9644</td>\n",
       "      <td>733.8784</td>\n",
       "      <td>907.8428</td>\n",
       "      <td>0</td>\n",
       "      <td>0.1</td>\n",
       "      <td>0</td>\n",
       "      <td>0</td>\n",
       "      <td>1</td>\n",
       "      <td>...</td>\n",
       "      <td>0</td>\n",
       "      <td>0</td>\n",
       "      <td>0</td>\n",
       "      <td>0</td>\n",
       "      <td>0</td>\n",
       "      <td>0</td>\n",
       "      <td>0</td>\n",
       "      <td>1</td>\n",
       "      <td>0</td>\n",
       "      <td>0</td>\n",
       "    </tr>\n",
       "    <tr>\n",
       "      <th>4</th>\n",
       "      <td>353</td>\n",
       "      <td>1465.0</td>\n",
       "      <td>1153.4178</td>\n",
       "      <td>512.8188</td>\n",
       "      <td>1666.2366</td>\n",
       "      <td>0</td>\n",
       "      <td>0.1</td>\n",
       "      <td>0</td>\n",
       "      <td>1</td>\n",
       "      <td>0</td>\n",
       "      <td>...</td>\n",
       "      <td>0</td>\n",
       "      <td>0</td>\n",
       "      <td>0</td>\n",
       "      <td>1</td>\n",
       "      <td>0</td>\n",
       "      <td>0</td>\n",
       "      <td>0</td>\n",
       "      <td>0</td>\n",
       "      <td>0</td>\n",
       "      <td>0</td>\n",
       "    </tr>\n",
       "    <tr>\n",
       "      <th>...</th>\n",
       "      <td>...</td>\n",
       "      <td>...</td>\n",
       "      <td>...</td>\n",
       "      <td>...</td>\n",
       "      <td>...</td>\n",
       "      <td>...</td>\n",
       "      <td>...</td>\n",
       "      <td>...</td>\n",
       "      <td>...</td>\n",
       "      <td>...</td>\n",
       "      <td>...</td>\n",
       "      <td>...</td>\n",
       "      <td>...</td>\n",
       "      <td>...</td>\n",
       "      <td>...</td>\n",
       "      <td>...</td>\n",
       "      <td>...</td>\n",
       "      <td>...</td>\n",
       "      <td>...</td>\n",
       "      <td>...</td>\n",
       "      <td>...</td>\n",
       "    </tr>\n",
       "    <tr>\n",
       "      <th>114271</th>\n",
       "      <td>645</td>\n",
       "      <td>1896.0</td>\n",
       "      <td>177.3075</td>\n",
       "      <td>896.2065</td>\n",
       "      <td>1073.5140</td>\n",
       "      <td>0</td>\n",
       "      <td>0.4</td>\n",
       "      <td>0</td>\n",
       "      <td>0</td>\n",
       "      <td>1</td>\n",
       "      <td>...</td>\n",
       "      <td>0</td>\n",
       "      <td>0</td>\n",
       "      <td>0</td>\n",
       "      <td>0</td>\n",
       "      <td>0</td>\n",
       "      <td>0</td>\n",
       "      <td>1</td>\n",
       "      <td>0</td>\n",
       "      <td>0</td>\n",
       "      <td>0</td>\n",
       "    </tr>\n",
       "    <tr>\n",
       "      <th>114272</th>\n",
       "      <td>502</td>\n",
       "      <td>746.0</td>\n",
       "      <td>1149.4065</td>\n",
       "      <td>477.3717</td>\n",
       "      <td>1626.7782</td>\n",
       "      <td>0</td>\n",
       "      <td>0.2</td>\n",
       "      <td>0</td>\n",
       "      <td>1</td>\n",
       "      <td>0</td>\n",
       "      <td>...</td>\n",
       "      <td>0</td>\n",
       "      <td>0</td>\n",
       "      <td>0</td>\n",
       "      <td>0</td>\n",
       "      <td>1</td>\n",
       "      <td>0</td>\n",
       "      <td>0</td>\n",
       "      <td>0</td>\n",
       "      <td>0</td>\n",
       "      <td>0</td>\n",
       "    </tr>\n",
       "    <tr>\n",
       "      <th>114273</th>\n",
       "      <td>464</td>\n",
       "      <td>572.0</td>\n",
       "      <td>177.3075</td>\n",
       "      <td>1125.0290</td>\n",
       "      <td>1302.3365</td>\n",
       "      <td>0</td>\n",
       "      <td>0.2</td>\n",
       "      <td>0</td>\n",
       "      <td>0</td>\n",
       "      <td>1</td>\n",
       "      <td>...</td>\n",
       "      <td>0</td>\n",
       "      <td>0</td>\n",
       "      <td>0</td>\n",
       "      <td>0</td>\n",
       "      <td>0</td>\n",
       "      <td>0</td>\n",
       "      <td>0</td>\n",
       "      <td>0</td>\n",
       "      <td>1</td>\n",
       "      <td>0</td>\n",
       "    </tr>\n",
       "    <tr>\n",
       "      <th>114274</th>\n",
       "      <td>388</td>\n",
       "      <td>1894.0</td>\n",
       "      <td>1149.4065</td>\n",
       "      <td>487.5926</td>\n",
       "      <td>1636.9991</td>\n",
       "      <td>0</td>\n",
       "      <td>0.3</td>\n",
       "      <td>0</td>\n",
       "      <td>1</td>\n",
       "      <td>0</td>\n",
       "      <td>...</td>\n",
       "      <td>0</td>\n",
       "      <td>0</td>\n",
       "      <td>0</td>\n",
       "      <td>0</td>\n",
       "      <td>1</td>\n",
       "      <td>0</td>\n",
       "      <td>0</td>\n",
       "      <td>0</td>\n",
       "      <td>0</td>\n",
       "      <td>0</td>\n",
       "    </tr>\n",
       "    <tr>\n",
       "      <th>114275</th>\n",
       "      <td>482</td>\n",
       "      <td>1308.0</td>\n",
       "      <td>130.0459</td>\n",
       "      <td>1672.4754</td>\n",
       "      <td>1802.5213</td>\n",
       "      <td>0</td>\n",
       "      <td>0.1</td>\n",
       "      <td>0</td>\n",
       "      <td>0</td>\n",
       "      <td>1</td>\n",
       "      <td>...</td>\n",
       "      <td>0</td>\n",
       "      <td>0</td>\n",
       "      <td>0</td>\n",
       "      <td>0</td>\n",
       "      <td>0</td>\n",
       "      <td>0</td>\n",
       "      <td>0</td>\n",
       "      <td>1</td>\n",
       "      <td>0</td>\n",
       "      <td>0</td>\n",
       "    </tr>\n",
       "  </tbody>\n",
       "</table>\n",
       "<p>114276 rows × 62 columns</p>\n",
       "</div>"
      ],
      "text/plain": [
       "        units  weight  distance_port_hub  distance_hub_customer  \\\n",
       "0         583  1778.0           130.0459               902.0420   \n",
       "1         459  1088.0          1269.2365               604.0216   \n",
       "2         464   505.0          2029.5726               392.9249   \n",
       "3         678  1308.0           173.9644               733.8784   \n",
       "4         353  1465.0          1153.4178               512.8188   \n",
       "...       ...     ...                ...                    ...   \n",
       "114271    645  1896.0           177.3075               896.2065   \n",
       "114272    502   746.0          1149.4065               477.3717   \n",
       "114273    464   572.0           177.3075              1125.0290   \n",
       "114274    388  1894.0          1149.4065               487.5926   \n",
       "114275    482  1308.0           130.0459              1672.4754   \n",
       "\n",
       "        distance_total  is_direct_shippment  prob_prod_late  \\\n",
       "0            1032.0879                    0             0.2   \n",
       "1            1873.2581                    0             0.1   \n",
       "2            2422.4975                    0             0.2   \n",
       "3             907.8428                    0             0.1   \n",
       "4            1666.2366                    0             0.1   \n",
       "...                ...                  ...             ...   \n",
       "114271       1073.5140                    0             0.4   \n",
       "114272       1626.7782                    0             0.2   \n",
       "114273       1302.3365                    0             0.2   \n",
       "114274       1636.9991                    0             0.3   \n",
       "114275       1802.5213                    0             0.1   \n",
       "\n",
       "        origin_port_Athens  origin_port_Barcelona  origin_port_Rotterdam  ...  \\\n",
       "0                        0                      0                      1  ...   \n",
       "1                        0                      0                      1  ...   \n",
       "2                        1                      0                      0  ...   \n",
       "3                        0                      0                      1  ...   \n",
       "4                        0                      1                      0  ...   \n",
       "...                    ...                    ...                    ...  ...   \n",
       "114271                   0                      0                      1  ...   \n",
       "114272                   0                      1                      0  ...   \n",
       "114273                   0                      0                      1  ...   \n",
       "114274                   0                      1                      0  ...   \n",
       "114275                   0                      0                      1  ...   \n",
       "\n",
       "        customer_Turin  customer_Valencia  customer_Vienna  \\\n",
       "0                    0                  0                0   \n",
       "1                    0                  0                0   \n",
       "2                    0                  0                0   \n",
       "3                    0                  0                0   \n",
       "4                    0                  0                0   \n",
       "...                ...                ...              ...   \n",
       "114271               0                  0                0   \n",
       "114272               0                  0                0   \n",
       "114273               0                  0                0   \n",
       "114274               0                  0                0   \n",
       "114275               0                  0                0   \n",
       "\n",
       "        material_handling_0.0  material_handling_1.0  material_handling_2.0  \\\n",
       "0                           0                      0                      0   \n",
       "1                           0                      0                      0   \n",
       "2                           0                      0                      0   \n",
       "3                           0                      0                      0   \n",
       "4                           1                      0                      0   \n",
       "...                       ...                    ...                    ...   \n",
       "114271                      0                      0                      0   \n",
       "114272                      0                      1                      0   \n",
       "114273                      0                      0                      0   \n",
       "114274                      0                      1                      0   \n",
       "114275                      0                      0                      0   \n",
       "\n",
       "        material_handling_3.0  material_handling_4.0  material_handling_5.0  \\\n",
       "0                           0                      0                      1   \n",
       "1                           1                      0                      0   \n",
       "2                           0                      1                      0   \n",
       "3                           0                      1                      0   \n",
       "4                           0                      0                      0   \n",
       "...                       ...                    ...                    ...   \n",
       "114271                      1                      0                      0   \n",
       "114272                      0                      0                      0   \n",
       "114273                      0                      0                      1   \n",
       "114274                      0                      0                      0   \n",
       "114275                      0                      1                      0   \n",
       "\n",
       "        late_order_t  \n",
       "0                  1  \n",
       "1                  0  \n",
       "2                  1  \n",
       "3                  0  \n",
       "4                  0  \n",
       "...              ...  \n",
       "114271             0  \n",
       "114272             0  \n",
       "114273             0  \n",
       "114274             0  \n",
       "114275             0  \n",
       "\n",
       "[114276 rows x 62 columns]"
      ]
     },
<<<<<<< HEAD
<<<<<<< HEAD
     "execution_count": 25,
=======
     "execution_count": 9,
>>>>>>> upstream/main
=======
     "execution_count": 3,
>>>>>>> upstream/main
     "metadata": {},
     "output_type": "execute_result"
    }
   ],
   "source": [
    "df"
   ]
  },
  {
   "cell_type": "code",
<<<<<<< HEAD
<<<<<<< HEAD
   "execution_count": 38,
=======
   "execution_count": 10,
>>>>>>> upstream/main
=======
   "execution_count": 4,
>>>>>>> upstream/main
   "metadata": {},
   "outputs": [
    {
     "name": "stdout",
     "output_type": "stream",
     "text": [
<<<<<<< HEAD
<<<<<<< HEAD
      "0.3441878379164002\n"
=======
      "0.34442604134885\n"
>>>>>>> upstream/main
=======
      "0.3446970783037532\n"
>>>>>>> upstream/main
     ]
    }
   ],
   "source": [
    "\n",
    "# df = df.dropna()\n",
    "\n",
    "X_train, X_test, y_train, y_test = train_test_split(df.drop(['late_order_t'],axis=1), df['late_order_t'].ravel(), test_size=0.2)\n",
    "\n",
    "val = ((sum(y_train==1)/sum(y_train==0)))\n",
    "print((1-val)/2)\n",
    "\n",
    "so = SMOTE(sampling_strategy= 1-(1-val)/2, k_neighbors=5) \n",
    "#su = RandomUnderSampler(sampling_strategy=1, replacement=True)\n",
    "su = NearMiss(sampling_strategy = 'majority')\n",
    "#su = RandomUnderSampler(sampling_strategy='majority')\n",
    "#so = RandomOverSampler(sampling_strategy='minority')    \n"
   ]
  },
  {
   "cell_type": "code",
<<<<<<< HEAD
<<<<<<< HEAD
   "execution_count": 39,
=======
   "execution_count": 11,
>>>>>>> upstream/main
=======
   "execution_count": 5,
>>>>>>> upstream/main
   "metadata": {},
   "outputs": [],
   "source": [
    "X_res_o, y_res_o = so.fit_resample(X_train, y_train)\n",
    "\n",
<<<<<<< HEAD
<<<<<<< HEAD
    "#X_res_o = X_res_o[:int(len(X_train) + (len(X_res_o)-len(X_train))/2)]; y_res_o = y_res_o[:int(len(X_train) + (len(X_res_o)-len(X_train))/2)]\n",
=======
    "X_res_o = X_res_o[:int(len(X_res_o) - (len(X_res_o)-len(X_train))/2)]; y_res_o = y_res_o[:int(len(X_res_o) - (len(X_res_o)-len(X_train))/2)]; \n",
=======
>>>>>>> upstream/main
    "\n",
>>>>>>> upstream/main
    "X_res_u, y_res_u = su.fit_resample(X_res_o, y_res_o)    #Esto me las añade al final!"
   ]
  },
  {
   "cell_type": "code",
<<<<<<< HEAD
   "execution_count": 42,
   "metadata": {},
   "outputs": [
    {
     "name": "stdout",
     "output_type": "stream",
     "text": [
      "21441 68804 90245\n",
      "45122 68804 113926\n",
      "45122 45122 90244\n"
     ]
    }
   ],
   "source": [
    "print((y_train==1).sum(),(y_train==0).sum(),len(y_train))\n",
    "print((y_res_o==1).sum(),(y_res_o==0).sum(),len(y_res_o))\n",
    "print((y_res_u==1).sum(),(y_res_u==0).sum(),len(y_res_u))"
   ]
  },
  {
   "cell_type": "code",
   "execution_count": 43,
=======
   "execution_count": 6,
>>>>>>> upstream/main
   "metadata": {},
   "outputs": [],
   "source": [
    "X_res_u['late_order_t']=y_res_u\n",
    "X_test['late_order_t']=y_test"
   ]
  },
  {
   "cell_type": "code",
<<<<<<< HEAD
   "execution_count": 44,
=======
   "execution_count": 7,
>>>>>>> upstream/main
   "metadata": {},
   "outputs": [],
   "source": [
    "X_res_u.to_csv(\"../data_p4/trainModel_2.csv\", index=False)\n",
    "X_test.to_csv(\"../data_p4/testModel_2.csv\", index=False)"
   ]
  }
 ],
 "metadata": {
  "kernelspec": {
<<<<<<< HEAD
   "display_name": "Python 3.9.1 64-bit",
=======
   "display_name": "Python 3.9.12 64-bit",
>>>>>>> upstream/main
   "language": "python",
   "name": "python3"
  },
  "language_info": {
   "codemirror_mode": {
    "name": "ipython",
    "version": 3
   },
   "file_extension": ".py",
   "mimetype": "text/x-python",
   "name": "python",
   "nbconvert_exporter": "python",
   "pygments_lexer": "ipython3",
<<<<<<< HEAD
   "version": "3.9.1"
  },
  "vscode": {
   "interpreter": {
    "hash": "52634da84371cba311ea128a5ea7cdc41ff074b781779e754b270ff9f8153cee"
=======
   "version": "3.9.12"
  },
  "vscode": {
   "interpreter": {
    "hash": "c63c415ab99ec436fcb8ee002cc8458e39a88baa623caa091ec0434b54d2be80"
>>>>>>> upstream/main
   }
  }
 },
 "nbformat": 4,
 "nbformat_minor": 2
}
